{
 "cells": [
  {
   "cell_type": "code",
   "execution_count": 61,
   "id": "ede284d9-1941-4cb4-9b6d-a79b2eaccfe0",
   "metadata": {},
   "outputs": [],
   "source": [
    "import numpy as np\n",
    "import itertools\n",
    "from tqdm import tqdm\n",
    "import pandas as pd\n",
    "import matplotlib.pyplot as plt\n",
    "import seaborn as sns\n",
    "from delegation_utils import retained, state, find_best_model, find_delegate_iteratively, get_human_errors, get_model_and_error, find_best_model_separable_alg"
   ]
  },
  {
   "cell_type": "code",
   "execution_count": 62,
   "id": "3fc0afe2-2c19-4064-aadc-fafd8497c378",
   "metadata": {},
   "outputs": [],
   "source": [
    "def generate_linear_coefficients(d):\n",
    "    return np.random.default_rng().normal(0,1,d)\n",
    "\n",
    "def get_separation_vector_from_linear(idxs, coefs):\n",
    "    n_feats = len(idxs)\n",
    "    return [np.dot(coefs[idxs], cat) for cat in itertools.product(range(2),repeat=n_feats)]"
   ]
  },
  {
   "cell_type": "code",
   "execution_count": 63,
   "id": "70fa9990-aade-419b-92e8-b94e576316ad",
   "metadata": {},
   "outputs": [],
   "source": [
    "def get_f_sep(u,w,h,m):\n",
    "    d = h+m\n",
    "    f = np.zeros(shape=2*np.ones(d, np.int64))\n",
    "    for i, hcat in enumerate(itertools.product(range(2),repeat=h)):\n",
    "        for j, mcat in enumerate(itertools.product(range(2),repeat=m)):\n",
    "            x_ij = state(hcat,mcat,np.arange(h),d)\n",
    "            f[tuple(x_ij)] = u[i] + w[j]\n",
    "    return f"
   ]
  },
  {
   "cell_type": "code",
   "execution_count": 64,
   "id": "57e09c41-796a-49e5-b5bb-eec09f61d4dc",
   "metadata": {},
   "outputs": [],
   "source": [
    "def get_f_linear(v,d):\n",
    "    f = np.zeros(2*np.ones(d, np.int64))\n",
    "\n",
    "    for x in itertools.product(range(2),repeat=d):\n",
    "        f[x] = np.dot(v,x)\n",
    "        \n",
    "    return f"
   ]
  },
  {
   "cell_type": "code",
   "execution_count": 65,
   "id": "e2b6b4ba-e04d-4713-88e1-1fb71e482782",
   "metadata": {},
   "outputs": [],
   "source": [
    "def format_separable(h,m,d,f,Y):\n",
    "    h_errors = get_human_errors(f, h, d)\n",
    "    loss, model = get_model_and_error(m,h,d,f,np.arange(h,h+m),Y,h_errors)\n",
    "    return model, loss, Y\n",
    "\n",
    "def find_best_model_separable(h,m,d,u,w,f):\n",
    "    Y = find_best_model_separable_alg(u,w,h)\n",
    "    return format_separable(h,m,d,f,Y)\n",
    "\n",
    "def find_best_model_separable_iter(h,m,d,f,quiet=True):\n",
    "    best_model, best_loss, Y, _, _ = find_delegate_iteratively(h,m,0,d,f,quiet=quiet)\n",
    "    return best_model, best_loss, Y"
   ]
  },
  {
   "cell_type": "code",
   "execution_count": 66,
   "id": "7b636cc0-be71-4fe7-b155-511725bccd62",
   "metadata": {},
   "outputs": [
    {
     "name": "stderr",
     "output_type": "stream",
     "text": [
      "100%|████████████████████████████████████████████████████████████| 100/100 [00:00<00:00, 445.59it/s]\n",
      "100%|████████████████████████████████████████████████████████████| 100/100 [00:00<00:00, 140.92it/s]\n",
      "100%|█████████████████████████████████████████████████████████████| 100/100 [00:02<00:00, 35.94it/s]\n",
      "100%|█████████████████████████████████████████████████████████████| 100/100 [00:11<00:00,  8.65it/s]\n",
      "100%|█████████████████████████████████████████████████████████████| 100/100 [00:48<00:00,  2.06it/s]\n",
      "100%|█████████████████████████████████████████████████████████████| 100/100 [03:54<00:00,  2.35s/it]\n"
     ]
    }
   ],
   "source": [
    "num_samples = 100\n",
    "\n",
    "all_runs = []\n",
    "for h in range(1,7):\n",
    "    m = h\n",
    "    d = m + h\n",
    "\n",
    "    h_idxs = np.arange(h)\n",
    "    m_idxs = np.arange(h,d)\n",
    "    runs = []\n",
    "    for i in tqdm(range(num_samples)):\n",
    "        coefs = generate_linear_coefficients(d)\n",
    "\n",
    "        u = get_separation_vector_from_linear(h_idxs, coefs)\n",
    "        w = get_separation_vector_from_linear(m_idxs, coefs)\n",
    "\n",
    "        f = get_f_sep(u,w,h,m)\n",
    "\n",
    "        model, loss, Y = find_best_model_separable(h,m,d,u,w,f)\n",
    "        model_iter, loss_iter, Y_iter = find_best_model_separable_iter(h,m,d,f)\n",
    "\n",
    "        run = {\n",
    "            'coefs': coefs,\n",
    "            'model': model, 'model_iter': model_iter,\n",
    "            'loss': loss, 'loss_iter': loss_iter,\n",
    "            'Y': Y, 'Y_iter': Y_iter\n",
    "        }\n",
    "        runs.append(run)\n",
    "    all_runs.append(runs)"
   ]
  },
  {
   "cell_type": "code",
   "execution_count": 67,
   "id": "29da6c52-3c73-4c1b-a6c1-4970ce34aeac",
   "metadata": {},
   "outputs": [],
   "source": [
    "def process_run_entries(all_runs, fn, num_samples):\n",
    "    entries = []\n",
    "    for h in range(1,7):\n",
    "        m = h\n",
    "        d = m + h\n",
    "        runs = all_runs[h-1]\n",
    "        for i in tqdm(range(num_samples)):\n",
    "            entries.extend(fn(h,m,d,runs[i]))\n",
    "    return entries"
   ]
  },
  {
   "cell_type": "code",
   "execution_count": 79,
   "id": "e3654156-8d50-4945-9e48-66a1b75227fa",
   "metadata": {},
   "outputs": [],
   "source": [
    "def get_ratios(h,m,d,run):\n",
    "    coefs = run['coefs']\n",
    "    f = get_f_linear(coefs,d)\n",
    "    m_idxs = np.arange(h,d)\n",
    "    \n",
    "    h_errors = get_human_errors(f, h, d)\n",
    "    loss_obliv, _ = get_model_and_error(m,h,d,f,m_idxs,[],h_errors)\n",
    "\n",
    "    loss = run['loss']\n",
    "    loss_iter = run['loss_iter']\n",
    "\n",
    "    iter_ratio = (loss_iter - loss) / loss\n",
    "    entry_iter = { 'h':h, 'Loss ratio': iter_ratio, 'Type': 'Iterative' }\n",
    "    \n",
    "    obliv_ratio = (loss_obliv - loss) / loss\n",
    "    entry_obliv = { 'h': h, 'Loss ratio': obliv_ratio, 'Type': 'Oblivious' }\n",
    "    \n",
    "    return [entry_obliv, entry_iter]"
   ]
  },
  {
   "cell_type": "code",
   "execution_count": 80,
   "id": "6aade989-bd75-4e01-be5d-550417b94462",
   "metadata": {},
   "outputs": [
    {
     "name": "stderr",
     "output_type": "stream",
     "text": [
      "100%|███████████████████████████████████████████████████████████| 100/100 [00:00<00:00, 2100.32it/s]\n",
      "100%|████████████████████████████████████████████████████████████| 100/100 [00:00<00:00, 798.60it/s]\n",
      "100%|████████████████████████████████████████████████████████████| 100/100 [00:00<00:00, 227.01it/s]\n",
      "100%|█████████████████████████████████████████████████████████████| 100/100 [00:01<00:00, 58.62it/s]\n",
      "100%|█████████████████████████████████████████████████████████████| 100/100 [00:06<00:00, 14.66it/s]\n",
      "100%|█████████████████████████████████████████████████████████████| 100/100 [00:26<00:00,  3.74it/s]\n"
     ]
    }
   ],
   "source": [
    "ratios = process_run_entries(all_runs, get_ratios, num_samples)"
   ]
  },
  {
   "cell_type": "code",
   "execution_count": 132,
   "id": "4ca9d711-fcfa-4799-83c1-ecd0ca0612a2",
   "metadata": {},
   "outputs": [
    {
     "data": {
      "image/png": "[encoded data removed]",
      "text/plain": [
       "<Figure size 640x480 with 1 Axes>"
      ]
     },
     "metadata": {},
     "output_type": "display_data"
    }
   ],
   "source": [
    "df = pd.DataFrame(all_ratios)\n",
    "\n",
    "df_iter = df[df['Type'] == 'Iterative']\n",
    "df_obliv = df[df['Type'] == 'Oblivious']\n",
    "\n",
    "medians = []\n",
    "for h in range(1,7):\n",
    "    df_h = df_obliv[df_obliv['h'] == h]\n",
    "    medians.append(np.median(df_h['Loss ratio']))\n",
    "plt.plot(np.arange(6), medians, color='black', linestyle='--', marker='.', markersize=15)\n",
    "\n",
    "sns.boxplot(df_iter, x='h', y='Loss ratio', color='red')\n",
    "plt.legend(['Oblivious (Median)', 'Iterative'])\n",
    "plt.xlabel(r'Number of features each agent observes, $|I_H| = |I_M|$')\n",
    "plt.savefig('loss_ratios.png')\n",
    "plt.show()"
   ]
  },
  {
   "cell_type": "markdown",
   "id": "a0dc1298-9b3b-41e2-88e9-4687cc02a16c",
   "metadata": {},
   "source": [
    "### Computing the proportion of times the iterative process finds the optimal solution"
   ]
  },
  {
   "cell_type": "code",
   "execution_count": null,
   "id": "982aad3b",
   "metadata": {},
   "outputs": [],
   "source": [
    "num_samples = 1000\n",
    "\n",
    "entries = []\n",
    "for h in range(1,7):\n",
    "    for m in range(1,7):\n",
    "        d = h + m\n",
    "        for i in range(num_samples):\n",
    "            coefs = generate_linear_coefficients(d)\n",
    "\n",
    "            h_idxs = np.arange(h)\n",
    "            m_idxs = np.arange(h,d)\n",
    "            u = get_separation_vector_from_linear(h_idxs, coefs)\n",
    "            w = get_separation_vector_from_linear(m_idxs, coefs)\n",
    "    \n",
    "            f = get_f_sep(u,w,h,m)\n",
    "    \n",
    "            model, loss, Y = find_best_model_separable(h,m,d,u,w,f)\n",
    "            model_iter, loss_iter, Y_iter = find_best_model_separable_iter(h,m,d,f)\n",
    "            \n",
    "            run = {\n",
    "                'h': h,\n",
    "                'm': m,\n",
    "                'coefs': coefs,\n",
    "                'model': model, 'model_iter': model_iter,\n",
    "                'loss': loss, 'loss_iter': loss_iter,\n",
    "                'Y': Y, 'Y_iter': Y_iter\n",
    "            }\n",
    "            entries.append(run)"
   ]
  },
  {
   "cell_type": "code",
   "execution_count": null,
   "id": "04dce16a",
   "metadata": {},
   "outputs": [],
   "source": [
    "TOL = 1e-8\n",
    "\n",
    "df = pd.DataFrame(entries)\n",
    "\n",
    "props = np.zeros((6,6))\n",
    "for h in range(1,7):\n",
    "    df_h = df[df['h'] == h]\n",
    "    for m in range(1,7):\n",
    "        df_hm = df_h[df_h['m'] == m]\n",
    "        count = 0\n",
    "        for index, row in df_hm.iterrows():\n",
    "            if row['Y'] == row['Y_iter'] or row['loss_iter']- row['loss'] < TOL:\n",
    "                count += 1\n",
    "        props[h-1,m-1] = count / num_samples\n",
    "\n",
    "for h in range(1,7):\n",
    "    print(props[h-1])"
   ]
  }
 ],
 "metadata": {
  "kernelspec": {
   "display_name": "Python 3 (ipykernel)",
   "language": "python",
   "name": "python3"
  },
  "language_info": {
   "codemirror_mode": {
    "name": "ipython",
    "version": 3
   },
   "file_extension": ".py",
   "mimetype": "text/x-python",
   "name": "python",
   "nbconvert_exporter": "python",
   "pygments_lexer": "ipython3",
   "version": "3.8.10"
  }
 },
 "nbformat": 4,
 "nbformat_minor": 5
}
